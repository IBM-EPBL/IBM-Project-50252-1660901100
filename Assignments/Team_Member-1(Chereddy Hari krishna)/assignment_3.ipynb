{
 "cells": [
  {
   "cell_type": "code",
   "execution_count": 1,
   "id": "cc128f7d",
   "metadata": {},
   "outputs": [
    {
     "ename": "ModuleNotFoundError",
     "evalue": "No module named 'tensorflow'",
     "output_type": "error",
     "traceback": [
      "\u001b[1;31m---------------------------------------------------------------------------\u001b[0m",
      "\u001b[1;31mModuleNotFoundError\u001b[0m                       Traceback (most recent call last)",
      "\u001b[1;32mc:\\Users\\akile\\Downloads\\assignment_3.ipynb Cell 1\u001b[0m in \u001b[0;36m<cell line: 1>\u001b[1;34m()\u001b[0m\n\u001b[1;32m----> <a href='vscode-notebook-cell:/c%3A/Users/akile/Downloads/assignment_3.ipynb#W0sZmlsZQ%3D%3D?line=0'>1</a>\u001b[0m \u001b[39mfrom\u001b[39;00m \u001b[39mtensorflow\u001b[39;00m\u001b[39m.\u001b[39;00m\u001b[39mkeras\u001b[39;00m\u001b[39m.\u001b[39;00m\u001b[39mmodels\u001b[39;00m \u001b[39mimport\u001b[39;00m Sequential\n\u001b[0;32m      <a href='vscode-notebook-cell:/c%3A/Users/akile/Downloads/assignment_3.ipynb#W0sZmlsZQ%3D%3D?line=1'>2</a>\u001b[0m \u001b[39mfrom\u001b[39;00m \u001b[39mtensorflow\u001b[39;00m\u001b[39m.\u001b[39;00m\u001b[39mkeras\u001b[39;00m\u001b[39m.\u001b[39;00m\u001b[39mlayers\u001b[39;00m \u001b[39mimport\u001b[39;00m Dense\n\u001b[0;32m      <a href='vscode-notebook-cell:/c%3A/Users/akile/Downloads/assignment_3.ipynb#W0sZmlsZQ%3D%3D?line=2'>3</a>\u001b[0m \u001b[39mfrom\u001b[39;00m \u001b[39mtensorflow\u001b[39;00m\u001b[39m.\u001b[39;00m\u001b[39mkeras\u001b[39;00m\u001b[39m.\u001b[39;00m\u001b[39mlayers\u001b[39;00m \u001b[39mimport\u001b[39;00m Convolution2D\n",
      "\u001b[1;31mModuleNotFoundError\u001b[0m: No module named 'tensorflow'"
     ]
    }
   ],
   "source": [
    "from tensorflow.keras.models import Sequential\n",
    "from tensorflow.keras.layers import Dense\n",
    "from tensorflow.keras.layers import Convolution2D\n",
    "from tensorflow.keras.layers import MaxPooling2D\n",
    "from tensorflow.keras.layers import Flatten"
   ]
  },
  {
   "cell_type": "code",
   "execution_count": null,
   "id": "9a20251b",
   "metadata": {},
   "outputs": [],
   "source": [
    "from tensorflow.keras.preprocessing.image import ImageDataGenerator"
   ]
  },
  {
   "cell_type": "code",
   "execution_count": null,
   "id": "729c5700",
   "metadata": {},
   "outputs": [],
   "source": [
    "train_data=ImageDataGenerator(rescale=1./255,shear_range=0.2,zoom_range=0.2,horizontal_flip=True,vertical_flip=True)\n",
    "test_data=ImageDataGenerator(rescale=1./255)"
   ]
  },
  {
   "cell_type": "code",
   "execution_count": null,
   "id": "44629271",
   "metadata": {},
   "outputs": [
    {
     "name": "stdout",
     "output_type": "stream",
     "text": [
      "Found 3453 images belonging to 5 classes.\n",
      "Found 864 images belonging to 5 classes.\n"
     ]
    }
   ],
   "source": [
    "x_train=train_data.flow_from_directory(r\"E:\\assignment3\\dataset\\Training\",target_size=(64,64),batch_size=32,class_mode=\"categorical\")\n",
    "x_test=test_data.flow_from_directory(r\"E:\\assignment3\\dataset\\Testing\",target_size=(64,64),batch_size=32,class_mode=\"categorical\")"
   ]
  },
  {
   "cell_type": "code",
   "execution_count": null,
   "id": "f30c5e01",
   "metadata": {},
   "outputs": [
    {
     "data": {
      "text/plain": [
       "{'daisy': 0, 'dandelion': 1, 'rose': 2, 'sunflower': 3, 'tulip': 4}"
      ]
     },
     "execution_count": 38,
     "metadata": {},
     "output_type": "execute_result"
    }
   ],
   "source": [
    "x_train.class_indices"
   ]
  },
  {
   "cell_type": "code",
   "execution_count": null,
   "id": "1870d327",
   "metadata": {},
   "outputs": [],
   "source": [
    "model=Sequential()"
   ]
  },
  {
   "cell_type": "code",
   "execution_count": null,
   "id": "27dcaf14",
   "metadata": {},
   "outputs": [],
   "source": [
    "model.add(Convolution2D(64,(3,3),input_shape=(64,64,3),activation='relu'))"
   ]
  },
  {
   "cell_type": "code",
   "execution_count": null,
   "id": "48bc4d2d",
   "metadata": {},
   "outputs": [],
   "source": [
    "model.add(MaxPooling2D(pool_size=(3,3)))"
   ]
  },
  {
   "cell_type": "code",
   "execution_count": null,
   "id": "81076674",
   "metadata": {},
   "outputs": [],
   "source": [
    "model.add(Flatten())"
   ]
  },
  {
   "cell_type": "code",
   "execution_count": null,
   "id": "013fff43",
   "metadata": {},
   "outputs": [],
   "source": [
    "model.add(Dense(units=5,kernel_initializer=\"random_uniform\",activation=\"softmax\"))"
   ]
  },
  {
   "cell_type": "code",
   "execution_count": null,
   "id": "cbafc2f0",
   "metadata": {},
   "outputs": [],
   "source": [
    "model.compile(loss=\"categorical_crossentropy\",optimizer=\"adam\",metrics=[\"accuracy\"])"
   ]
  },
  {
   "cell_type": "code",
   "execution_count": null,
   "id": "0d263994",
   "metadata": {},
   "outputs": [
    {
     "name": "stderr",
     "output_type": "stream",
     "text": [
      "C:\\Users\\Smile\\AppData\\Local\\Temp\\ipykernel_19908\\1932184935.py:1: UserWarning: `Model.fit_generator` is deprecated and will be removed in a future version. Please use `Model.fit`, which supports generators.\n",
      "  model.fit_generator(x_train,steps_per_epoch=108,epochs=30,validation_data=x_test,validation_steps=27)\n"
     ]
    },
    {
     "name": "stdout",
     "output_type": "stream",
     "text": [
      "Epoch 1/30\n",
      "108/108 [==============================] - 88s 798ms/step - loss: 1.6050 - accuracy: 0.2299 - val_loss: 1.6017 - val_accuracy: 0.2431\n",
      "Epoch 2/30\n",
      "108/108 [==============================] - 70s 646ms/step - loss: 1.6005 - accuracy: 0.2438 - val_loss: 1.5994 - val_accuracy: 0.2431\n",
      "Epoch 3/30\n",
      "108/108 [==============================] - 71s 654ms/step - loss: 1.5992 - accuracy: 0.2438 - val_loss: 1.5989 - val_accuracy: 0.2431\n",
      "Epoch 4/30\n",
      "108/108 [==============================] - 70s 648ms/step - loss: 1.5988 - accuracy: 0.2438 - val_loss: 1.5987 - val_accuracy: 0.2431\n",
      "Epoch 5/30\n",
      "108/108 [==============================] - 74s 685ms/step - loss: 1.5988 - accuracy: 0.2438 - val_loss: 1.5987 - val_accuracy: 0.2431\n",
      "Epoch 6/30\n",
      "108/108 [==============================] - 77s 712ms/step - loss: 1.5986 - accuracy: 0.2438 - val_loss: 1.5985 - val_accuracy: 0.2431\n",
      "Epoch 7/30\n",
      "108/108 [==============================] - 80s 739ms/step - loss: 1.5985 - accuracy: 0.2438 - val_loss: 1.5987 - val_accuracy: 0.2431\n",
      "Epoch 8/30\n",
      "108/108 [==============================] - 76s 702ms/step - loss: 1.5987 - accuracy: 0.2438 - val_loss: 1.5987 - val_accuracy: 0.2431\n",
      "Epoch 9/30\n",
      "108/108 [==============================] - 75s 692ms/step - loss: 1.5987 - accuracy: 0.2438 - val_loss: 1.5987 - val_accuracy: 0.2431\n",
      "Epoch 10/30\n",
      "108/108 [==============================] - 78s 721ms/step - loss: 1.5987 - accuracy: 0.2438 - val_loss: 1.5987 - val_accuracy: 0.2431\n",
      "Epoch 11/30\n",
      "108/108 [==============================] - 75s 693ms/step - loss: 1.5987 - accuracy: 0.2438 - val_loss: 1.5987 - val_accuracy: 0.2431\n",
      "Epoch 12/30\n",
      "108/108 [==============================] - 75s 695ms/step - loss: 1.5987 - accuracy: 0.2438 - val_loss: 1.5987 - val_accuracy: 0.2431\n",
      "Epoch 13/30\n",
      "108/108 [==============================] - 81s 745ms/step - loss: 1.5987 - accuracy: 0.2438 - val_loss: 1.5987 - val_accuracy: 0.2431\n",
      "Epoch 14/30\n",
      "108/108 [==============================] - 76s 700ms/step - loss: 1.5987 - accuracy: 0.2438 - val_loss: 1.5987 - val_accuracy: 0.2431\n",
      "Epoch 15/30\n",
      "108/108 [==============================] - 80s 742ms/step - loss: 1.5987 - accuracy: 0.2438 - val_loss: 1.5987 - val_accuracy: 0.2431\n",
      "Epoch 16/30\n",
      "108/108 [==============================] - 75s 693ms/step - loss: 1.5987 - accuracy: 0.2438 - val_loss: 1.5987 - val_accuracy: 0.2431\n",
      "Epoch 17/30\n",
      "108/108 [==============================] - 75s 692ms/step - loss: 1.5987 - accuracy: 0.2438 - val_loss: 1.5987 - val_accuracy: 0.2431\n",
      "Epoch 18/30\n",
      "108/108 [==============================] - 75s 696ms/step - loss: 1.5986 - accuracy: 0.2438 - val_loss: 1.5987 - val_accuracy: 0.2431\n",
      "Epoch 19/30\n",
      "108/108 [==============================] - 75s 694ms/step - loss: 1.5986 - accuracy: 0.2438 - val_loss: 1.5987 - val_accuracy: 0.2431\n",
      "Epoch 20/30\n",
      "108/108 [==============================] - 75s 694ms/step - loss: 1.5988 - accuracy: 0.2438 - val_loss: 1.5987 - val_accuracy: 0.2431\n",
      "Epoch 21/30\n",
      "108/108 [==============================] - 75s 690ms/step - loss: 1.5986 - accuracy: 0.2438 - val_loss: 1.5987 - val_accuracy: 0.2431\n",
      "Epoch 22/30\n",
      "108/108 [==============================] - 76s 702ms/step - loss: 1.5986 - accuracy: 0.2438 - val_loss: 1.5987 - val_accuracy: 0.2431\n",
      "Epoch 23/30\n",
      "108/108 [==============================] - 76s 705ms/step - loss: 1.5987 - accuracy: 0.2438 - val_loss: 1.5987 - val_accuracy: 0.2431\n",
      "Epoch 24/30\n",
      "108/108 [==============================] - 75s 692ms/step - loss: 1.5987 - accuracy: 0.2438 - val_loss: 1.5987 - val_accuracy: 0.2431\n",
      "Epoch 25/30\n",
      "108/108 [==============================] - 75s 690ms/step - loss: 1.5988 - accuracy: 0.2438 - val_loss: 1.5987 - val_accuracy: 0.2431\n",
      "Epoch 26/30\n",
      "108/108 [==============================] - 75s 695ms/step - loss: 1.5986 - accuracy: 0.2438 - val_loss: 1.5987 - val_accuracy: 0.2431\n",
      "Epoch 27/30\n",
      "108/108 [==============================] - 76s 699ms/step - loss: 1.5987 - accuracy: 0.2438 - val_loss: 1.5987 - val_accuracy: 0.2431\n",
      "Epoch 28/30\n",
      "108/108 [==============================] - 75s 692ms/step - loss: 1.5987 - accuracy: 0.2438 - val_loss: 1.5987 - val_accuracy: 0.2431\n",
      "Epoch 29/30\n",
      "108/108 [==============================] - 75s 690ms/step - loss: 1.5987 - accuracy: 0.2438 - val_loss: 1.5987 - val_accuracy: 0.2431\n",
      "Epoch 30/30\n",
      "108/108 [==============================] - 75s 696ms/step - loss: 1.5988 - accuracy: 0.2438 - val_loss: 1.5987 - val_accuracy: 0.2431\n"
     ]
    },
    {
     "data": {
      "text/plain": [
       "<keras.callbacks.History at 0x23bcb0e0d60>"
      ]
     },
     "execution_count": 51,
     "metadata": {},
     "output_type": "execute_result"
    }
   ],
   "source": [
    "model.fit_generator(x_train,steps_per_epoch=108,epochs=30,validation_data=x_test,validation_steps=27)"
   ]
  },
  {
   "cell_type": "code",
   "execution_count": null,
   "id": "71f43241",
   "metadata": {},
   "outputs": [],
   "source": [
    "model.save(\"flower.h5\")"
   ]
  },
  {
   "cell_type": "code",
   "execution_count": null,
   "id": "d20cecb3",
   "metadata": {},
   "outputs": [],
   "source": [
    "from tensorflow.keras.models import load_model\n",
    "from tensorflow.keras.preprocessing import image"
   ]
  },
  {
   "cell_type": "code",
   "execution_count": null,
   "id": "8a0d46f3",
   "metadata": {},
   "outputs": [],
   "source": [
    "import numpy as np"
   ]
  },
  {
   "cell_type": "code",
   "execution_count": null,
   "id": "a0763401",
   "metadata": {},
   "outputs": [],
   "source": [
    "model=load_model(\"flower.h5\")"
   ]
  },
  {
   "cell_type": "code",
   "execution_count": null,
   "id": "59a894ed",
   "metadata": {},
   "outputs": [],
   "source": [
    "img=image.load_img(\"dandelion.jpg\",target_size=(64,64))"
   ]
  },
  {
   "cell_type": "code",
   "execution_count": null,
   "id": "a9f9836b",
   "metadata": {},
   "outputs": [
    {
     "data": {
      "image/png": "[encoded data removed]",
      "text/plain": [
       "<PIL.Image.Image image mode=RGB size=64x64 at 0x23BC68938E0>"
      ]
     },
     "execution_count": 103,
     "metadata": {},
     "output_type": "execute_result"
    }
   ],
   "source": [
    "img"
   ]
  },
  {
   "cell_type": "code",
   "execution_count": null,
   "id": "e7644c30",
   "metadata": {},
   "outputs": [
    {
     "data": {
      "text/plain": [
       "PIL.Image.Image"
      ]
     },
     "execution_count": 89,
     "metadata": {},
     "output_type": "execute_result"
    }
   ],
   "source": [
    "type(img)"
   ]
  },
  {
   "cell_type": "code",
   "execution_count": null,
   "id": "047456eb",
   "metadata": {},
   "outputs": [],
   "source": [
    "x=image.img_to_array(img)"
   ]
  },
  {
   "cell_type": "code",
   "execution_count": null,
   "id": "b75e7bc9",
   "metadata": {},
   "outputs": [
    {
     "data": {
      "text/plain": [
       "array([[[  4.,   4.,   4.],\n",
       "        [ 11.,  11.,  11.],\n",
       "        [  9.,   9.,   9.],\n",
       "        ...,\n",
       "        [ 11.,  11.,  11.],\n",
       "        [  9.,   9.,   9.],\n",
       "        [ 10.,  10.,  10.]],\n",
       "\n",
       "       [[ 12.,  12.,  12.],\n",
       "        [ 21.,  21.,  21.],\n",
       "        [ 19.,  19.,  19.],\n",
       "        ...,\n",
       "        [ 15.,  15.,  15.],\n",
       "        [ 23.,  23.,  23.],\n",
       "        [  2.,   2.,   2.]],\n",
       "\n",
       "       [[ 23.,  23.,  23.],\n",
       "        [ 52.,  52.,  52.],\n",
       "        [ 41.,  41.,  41.],\n",
       "        ...,\n",
       "        [ 49.,  49.,  49.],\n",
       "        [ 34.,  34.,  34.],\n",
       "        [ 42.,  42.,  42.]],\n",
       "\n",
       "       ...,\n",
       "\n",
       "       [[ 56.,  56.,  56.],\n",
       "        [121., 121., 121.],\n",
       "        [ 44.,  44.,  44.],\n",
       "        ...,\n",
       "        [113., 113., 113.],\n",
       "        [ 24.,  24.,  24.],\n",
       "        [ 12.,  12.,  12.]],\n",
       "\n",
       "       [[ 54.,  54.,  54.],\n",
       "        [ 30.,  30.,  30.],\n",
       "        [ 36.,  36.,  36.],\n",
       "        ...,\n",
       "        [102., 102., 102.],\n",
       "        [ 42.,  42.,  42.],\n",
       "        [ 10.,  10.,  10.]],\n",
       "\n",
       "       [[ 23.,  23.,  23.],\n",
       "        [ 20.,  20.,  20.],\n",
       "        [ 11.,  11.,  11.],\n",
       "        ...,\n",
       "        [ 77.,  77.,  77.],\n",
       "        [  3.,   3.,   3.],\n",
       "        [ 10.,  10.,  10.]]], dtype=float32)"
      ]
     },
     "execution_count": 105,
     "metadata": {},
     "output_type": "execute_result"
    }
   ],
   "source": [
    "x"
   ]
  },
  {
   "cell_type": "code",
   "execution_count": null,
   "id": "d0db48cc",
   "metadata": {},
   "outputs": [
    {
     "data": {
      "text/plain": [
       "(64, 64, 3)"
      ]
     },
     "execution_count": 92,
     "metadata": {},
     "output_type": "execute_result"
    }
   ],
   "source": [
    "x.shape"
   ]
  },
  {
   "cell_type": "code",
   "execution_count": null,
   "id": "0188420e",
   "metadata": {},
   "outputs": [],
   "source": [
    "x=np.expand_dims(x,axis=0)"
   ]
  },
  {
   "cell_type": "code",
   "execution_count": null,
   "id": "b6aa4ed7",
   "metadata": {},
   "outputs": [
    {
     "name": "stdout",
     "output_type": "stream",
     "text": [
      "1/1 [==============================] - 0s 63ms/step\n"
     ]
    }
   ],
   "source": [
    "pred_prob=model.predict(x)"
   ]
  },
  {
   "cell_type": "code",
   "execution_count": null,
   "id": "6fd88c2f",
   "metadata": {},
   "outputs": [
    {
     "data": {
      "text/plain": [
       "array([[0.17660806, 0.24450503, 0.18085377, 0.17052399, 0.22750916]],\n",
       "      dtype=float32)"
      ]
     },
     "execution_count": 96,
     "metadata": {},
     "output_type": "execute_result"
    }
   ],
   "source": [
    "pred_prob"
   ]
  },
  {
   "cell_type": "code",
   "execution_count": null,
   "id": "4f4f8252",
   "metadata": {},
   "outputs": [],
   "source": [
    "class_name=[\"Daisy\",\"Dandelion\",\"Rose\",\"Sunflower\",\"Tulip\"]\n",
    "pred_id=pred_prob.argmax(axis=1)[0]"
   ]
  },
  {
   "cell_type": "code",
   "execution_count": null,
   "id": "591a760d",
   "metadata": {},
   "outputs": [
    {
     "data": {
      "text/plain": [
       "1"
      ]
     },
     "execution_count": 100,
     "metadata": {},
     "output_type": "execute_result"
    }
   ],
   "source": [
    "pred_id"
   ]
  },
  {
   "cell_type": "code",
   "execution_count": null,
   "id": "48c4eba3",
   "metadata": {},
   "outputs": [
    {
     "name": "stdout",
     "output_type": "stream",
     "text": [
      "Predicted animalis  Dandelion\n"
     ]
    }
   ],
   "source": [
    "print(\"Predicted animalis \",str(class_name[pred_id]))"
   ]
  },
  {
   "cell_type": "code",
   "execution_count": null,
   "id": "8811b770",
   "metadata": {},
   "outputs": [],
   "source": []
  }
 ],
 "metadata": {
  "kernelspec": {
   "display_name": "Python 3.10.7 64-bit",
   "language": "python",
   "name": "python3"
  },
  "language_info": {
   "codemirror_mode": {
    "name": "ipython",
    "version": 3
   },
   "file_extension": ".py",
   "mimetype": "text/x-python",
   "name": "python",
   "nbconvert_exporter": "python",
   "pygments_lexer": "ipython3",
   "version": "3.10.7"
  },
  "vscode": {
   "interpreter": {
    "hash": "6f2d75d68a811a877e0737cbc960b5a325efb60ef2492b68a1b615a35a1f6ae9"
   }
  }
 },
 "nbformat": 4,
 "nbformat_minor": 5
}
